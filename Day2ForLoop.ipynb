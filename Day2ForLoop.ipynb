{
  "nbformat": 4,
  "nbformat_minor": 0,
  "metadata": {
    "colab": {
      "name": "Day2ForLoop.ipynb",
      "provenance": [],
      "authorship_tag": "ABX9TyO7euMwecYCPnItKGgOFoDs",
      "include_colab_link": true
    },
    "kernelspec": {
      "name": "python3",
      "display_name": "Python 3"
    },
    "language_info": {
      "name": "python"
    }
  },
  "cells": [
    {
      "cell_type": "markdown",
      "metadata": {
        "id": "view-in-github",
        "colab_type": "text"
      },
      "source": [
        "<a href=\"https://colab.research.google.com/github/ankitkafle1/jjttp2022_KafleAnkit/blob/main/Day2ForLoop.ipynb\" target=\"_parent\"><img src=\"https://colab.research.google.com/assets/colab-badge.svg\" alt=\"Open In Colab\"/></a>"
      ]
    },
    {
      "cell_type": "code",
      "execution_count": null,
      "metadata": {
        "id": "leYUd6nNQkvL"
      },
      "outputs": [],
      "source": [
        "#for loop\n",
        "#For-Loops\n",
        "#A for loop acts as an iterator in Python, it goes through items that are in a sequence or any other iterable item. Objects that we've learned about that we can iterate over include strings,lists,tuples, and even built in iterables for dictionaries, such as the keys or values."
      ]
    },
    {
      "cell_type": "code",
      "source": [
        "l = [1,2,3,4,5,6,7,8,9,10]\n",
        "for i in l:\n",
        "  print (i)"
      ],
      "metadata": {
        "colab": {
          "base_uri": "https://localhost:8080/"
        },
        "id": "_lIEfB6RQpHG",
        "outputId": "d5397307-53d1-49d7-9c94-4a3aeba489c2"
      },
      "execution_count": 3,
      "outputs": [
        {
          "output_type": "stream",
          "name": "stdout",
          "text": [
            "1\n",
            "2\n",
            "3\n",
            "4\n",
            "5\n",
            "6\n",
            "7\n",
            "8\n",
            "9\n",
            "10\n"
          ]
        }
      ]
    },
    {
      "cell_type": "code",
      "source": [
        ""
      ],
      "metadata": {
        "id": "M46cjAqNQpKb"
      },
      "execution_count": 8,
      "outputs": []
    },
    {
      "cell_type": "code",
      "source": [
        "# Let's print only the even numbers from a list\n",
        "\n",
        "mlist = [1,22,332,42,51,6,237,8,93,10, 55, 65, 76, 23, 87, 23, 9,41, 45, 66]\n",
        "# In the previous line I created a list of numbers.\n",
        "\n",
        "for number in mlist:\n",
        "# in this line I create a for loop to iterate through my list of numbers.\n",
        "\n",
        "  if number % 2 == 0:\n",
        "  # in this line I am using a conditional statement 'if-statement' to determine if a number is even!\n",
        "    print(number)\n",
        "    # in this line I am printing the iterator oafter the conditional statemwent has been executed."
      ],
      "metadata": {
        "colab": {
          "base_uri": "https://localhost:8080/"
        },
        "id": "1QSC372YQpM7",
        "outputId": "ce6c4e81-46de-42a9-f712-a76b65186e97"
      },
      "execution_count": 9,
      "outputs": [
        {
          "output_type": "stream",
          "name": "stdout",
          "text": [
            "22\n",
            "332\n",
            "42\n",
            "6\n",
            "8\n",
            "10\n",
            "76\n",
            "66\n"
          ]
        }
      ]
    },
    {
      "cell_type": "code",
      "source": [
        "# Let's print only the even numbers from a list\n",
        "mlist = [1,22,332,42,51,6,237,8,93,10, 55, 65, 76, 23, 87, 23, 9,41, 45, 66]\n",
        "for number in mlist:\n",
        "  if number % 2 == 0:\n",
        "    print(number)\n",
        "  else:\n",
        "    print('Odd Number')"
      ],
      "metadata": {
        "colab": {
          "base_uri": "https://localhost:8080/"
        },
        "id": "IF1oGqTFQpPp",
        "outputId": "d059b5b2-cc16-47e2-a4b6-9bd73df5f66a"
      },
      "execution_count": 10,
      "outputs": [
        {
          "output_type": "stream",
          "name": "stdout",
          "text": [
            "Odd Number\n",
            "22\n",
            "332\n",
            "42\n",
            "Odd Number\n",
            "6\n",
            "Odd Number\n",
            "8\n",
            "Odd Number\n",
            "10\n",
            "Odd Number\n",
            "Odd Number\n",
            "76\n",
            "Odd Number\n",
            "Odd Number\n",
            "Odd Number\n",
            "Odd Number\n",
            "Odd Number\n",
            "Odd Number\n",
            "66\n"
          ]
        }
      ]
    },
    {
      "cell_type": "code",
      "source": [
        "# Let's print only the odd numbers from a list\n",
        "\n",
        "mlist = [1,22,332,42,51,6,237,8,93,10, 55, 65, 76, 23, 87, 23, 9,41, 45, 66]\n",
        "# In the previous line I created a list of numbers.\n",
        "\n",
        "for number in mlist:\n",
        "# in this line I create a for loop to iterate through my list of numbers.\n",
        "\n",
        "  if number % 2 != 0:\n",
        "  # in this line I am using a conditional statement 'if-statement' to determine if a number is even!\n",
        "    print(number)\n",
        "    # in this line I am printing the iterator oafter the conditional statemwent has been executed."
      ],
      "metadata": {
        "colab": {
          "base_uri": "https://localhost:8080/"
        },
        "id": "8NjmwU9QQpSW",
        "outputId": "b52a8271-8fde-434d-9387-b0622cd1cd17"
      },
      "execution_count": 11,
      "outputs": [
        {
          "output_type": "stream",
          "name": "stdout",
          "text": [
            "1\n",
            "51\n",
            "237\n",
            "93\n",
            "55\n",
            "65\n",
            "23\n",
            "87\n",
            "23\n",
            "9\n",
            "41\n",
            "45\n"
          ]
        }
      ]
    },
    {
      "cell_type": "code",
      "source": [
        "d = {'k1':1,'k2':2,'k3':3}"
      ],
      "metadata": {
        "id": "SAu1L6cvUytP"
      },
      "execution_count": 13,
      "outputs": []
    },
    {
      "cell_type": "code",
      "source": [
        "for k,v in d:\n",
        "    print(v)  "
      ],
      "metadata": {
        "colab": {
          "base_uri": "https://localhost:8080/"
        },
        "id": "RtuLxKW9QpVD",
        "outputId": "7eba8d1d-01d7-4e1f-edc6-01975aebb04c"
      },
      "execution_count": 17,
      "outputs": [
        {
          "output_type": "stream",
          "name": "stdout",
          "text": [
            "1\n",
            "2\n",
            "3\n"
          ]
        }
      ]
    },
    {
      "cell_type": "code",
      "source": [
        ""
      ],
      "metadata": {
        "id": "DaIHEFQsQpYZ"
      },
      "execution_count": null,
      "outputs": []
    }
  ]
}
{
  "nbformat": 4,
  "nbformat_minor": 0,
  "metadata": {
    "colab": {
      "name": "day1Basics.ipynb",
      "provenance": [],
      "collapsed_sections": [],
      "authorship_tag": "ABX9TyNbsuFA3fe8d7ZVv09QvimH",
      "include_colab_link": true
    },
    "kernelspec": {
      "name": "python3",
      "display_name": "Python 3"
    },
    "language_info": {
      "name": "python"
    }
  },
  "cells": [
    {
      "cell_type": "markdown",
      "metadata": {
        "id": "view-in-github",
        "colab_type": "text"
      },
      "source": [
        "<a href=\"https://colab.research.google.com/github/ankitkafle1/jjttp2022_KafleAnkit/blob/main/day1Basics.ipynb\" target=\"_parent\"><img src=\"https://colab.research.google.com/assets/colab-badge.svg\" alt=\"Open In Colab\"/></a>"
      ]
    },
    {
      "cell_type": "markdown",
      "source": [
        "#Hello Python"
      ],
      "metadata": {
        "id": "IzuFMomD0DJS"
      }
    },
    {
      "cell_type": "code",
      "source": [
        ""
      ],
      "metadata": {
        "id": "5cutq99Q0DXA"
      },
      "execution_count": 24,
      "outputs": []
    },
    {
      "cell_type": "code",
      "source": [
        "#String Basics\n",
        "'This is a srting'\n",
        "'I am learning string'\n",
        "g = 'I am learning string'\n",
        "'hell there'\n",
        "k = 'hell there'\n",
        "len(k)\n",
        "'i am number 4'\n",
        "l = 'i am number 4'\n",
        "len(l)\n",
        "'finally number 5'\n",
        "o = 'finally number 5'\n",
        "len(o)\n",
        "len('This is a srting')\n",
        "\n",
        "\n",
        "s = 'This is a srting'\n",
        "len(s)\n",
        "g = 'General Knowldege'\n",
        "r =\"i msdf\"\n",
        "len(r)\n",
        "\n",
        "## String Indexing\n",
        "\n",
        "\n"
      ],
      "metadata": {
        "id": "mroRzmi60Djh",
        "colab": {
          "base_uri": "https://localhost:8080/"
        },
        "outputId": "15dbb7dc-2cc3-4783-f561-5f021043775a"
      },
      "execution_count": 25,
      "outputs": [
        {
          "output_type": "execute_result",
          "data": {
            "text/plain": [
              "6"
            ]
          },
          "metadata": {},
          "execution_count": 25
        }
      ]
    },
    {
      "cell_type": "code",
      "source": [
        "s = 'This is a string'\n",
        "s[0]"
      ],
      "metadata": {
        "id": "jPF6sfsh0Dtf",
        "colab": {
          "base_uri": "https://localhost:8080/",
          "height": 35
        },
        "outputId": "774767eb-31b4-4a02-ece6-c6059216ea11"
      },
      "execution_count": 26,
      "outputs": [
        {
          "output_type": "execute_result",
          "data": {
            "application/vnd.google.colaboratory.intrinsic+json": {
              "type": "string"
            },
            "text/plain": [
              "'T'"
            ]
          },
          "metadata": {},
          "execution_count": 26
        }
      ]
    },
    {
      "cell_type": "code",
      "source": [
        "s[1]"
      ],
      "metadata": {
        "id": "90Xiue7t0Dxr",
        "colab": {
          "base_uri": "https://localhost:8080/",
          "height": 35
        },
        "outputId": "12f18d1c-7b4f-4f9a-9536-a987a84f58f4"
      },
      "execution_count": 27,
      "outputs": [
        {
          "output_type": "execute_result",
          "data": {
            "application/vnd.google.colaboratory.intrinsic+json": {
              "type": "string"
            },
            "text/plain": [
              "'h'"
            ]
          },
          "metadata": {},
          "execution_count": 27
        }
      ]
    },
    {
      "cell_type": "code",
      "source": [
        "s[4]"
      ],
      "metadata": {
        "id": "jlM_iRRe0D01",
        "colab": {
          "base_uri": "https://localhost:8080/",
          "height": 35
        },
        "outputId": "30db4d8d-3196-4e6c-fb74-84e7214f70f4"
      },
      "execution_count": 28,
      "outputs": [
        {
          "output_type": "execute_result",
          "data": {
            "application/vnd.google.colaboratory.intrinsic+json": {
              "type": "string"
            },
            "text/plain": [
              "' '"
            ]
          },
          "metadata": {},
          "execution_count": 28
        }
      ]
    },
    {
      "cell_type": "code",
      "source": [
        "s[10]"
      ],
      "metadata": {
        "id": "k3XYx8KD0D3i",
        "colab": {
          "base_uri": "https://localhost:8080/",
          "height": 35
        },
        "outputId": "e8dd4d2e-de41-4ab3-e9f4-2cc5de7edcec"
      },
      "execution_count": 29,
      "outputs": [
        {
          "output_type": "execute_result",
          "data": {
            "application/vnd.google.colaboratory.intrinsic+json": {
              "type": "string"
            },
            "text/plain": [
              "'s'"
            ]
          },
          "metadata": {},
          "execution_count": 29
        }
      ]
    },
    {
      "cell_type": "code",
      "source": [
        "s[-1]"
      ],
      "metadata": {
        "colab": {
          "base_uri": "https://localhost:8080/",
          "height": 35
        },
        "id": "x0lGx8er8gKR",
        "outputId": "cee831fe-d9be-44e9-9cf9-976c1ba65e93"
      },
      "execution_count": 30,
      "outputs": [
        {
          "output_type": "execute_result",
          "data": {
            "application/vnd.google.colaboratory.intrinsic+json": {
              "type": "string"
            },
            "text/plain": [
              "'g'"
            ]
          },
          "metadata": {},
          "execution_count": 30
        }
      ]
    },
    {
      "cell_type": "code",
      "source": [
        "s[-2]"
      ],
      "metadata": {
        "colab": {
          "base_uri": "https://localhost:8080/",
          "height": 35
        },
        "id": "ytGt7kHG8gFD",
        "outputId": "9598bb93-4dcb-4469-dc06-7ad23139314c"
      },
      "execution_count": 31,
      "outputs": [
        {
          "output_type": "execute_result",
          "data": {
            "application/vnd.google.colaboratory.intrinsic+json": {
              "type": "string"
            },
            "text/plain": [
              "'n'"
            ]
          },
          "metadata": {},
          "execution_count": 31
        }
      ]
    },
    {
      "cell_type": "code",
      "source": [
        "s[-16]"
      ],
      "metadata": {
        "colab": {
          "base_uri": "https://localhost:8080/",
          "height": 35
        },
        "id": "CcC2NMdk8f15",
        "outputId": "fd740e80-4bf0-4b67-bd75-10c8fbd62c81"
      },
      "execution_count": 32,
      "outputs": [
        {
          "output_type": "execute_result",
          "data": {
            "application/vnd.google.colaboratory.intrinsic+json": {
              "type": "string"
            },
            "text/plain": [
              "'T'"
            ]
          },
          "metadata": {},
          "execution_count": 32
        }
      ]
    },
    {
      "cell_type": "code",
      "source": [
        "s[15]"
      ],
      "metadata": {
        "colab": {
          "base_uri": "https://localhost:8080/",
          "height": 35
        },
        "id": "WC3RCylS8sfI",
        "outputId": "ffc387c1-5521-4daf-f78f-68b4f74db742"
      },
      "execution_count": 33,
      "outputs": [
        {
          "output_type": "execute_result",
          "data": {
            "application/vnd.google.colaboratory.intrinsic+json": {
              "type": "string"
            },
            "text/plain": [
              "'g'"
            ]
          },
          "metadata": {},
          "execution_count": 33
        }
      ]
    },
    {
      "cell_type": "markdown",
      "source": [
        "## concatenation of strings"
      ],
      "metadata": {
        "id": "mADdwfo-b-gv"
      }
    },
    {
      "cell_type": "code",
      "source": [
        "greeting = 'hello'\n",
        "name = 'mark'\n",
        "print(greeting+name)\n",
        "print(greeting+' '+name)\n"
      ],
      "metadata": {
        "colab": {
          "base_uri": "https://localhost:8080/"
        },
        "id": "JH0Gtxhib-eL",
        "outputId": "be08093d-c4e5-458d-e33e-63262d9c50b2"
      },
      "execution_count": 34,
      "outputs": [
        {
          "output_type": "stream",
          "name": "stdout",
          "text": [
            "hellomark\n",
            "hello mark\n"
          ]
        }
      ]
    },
    {
      "cell_type": "code",
      "source": [
        ""
      ],
      "metadata": {
        "id": "2f5pcrAxb-b6"
      },
      "execution_count": null,
      "outputs": []
    },
    {
      "cell_type": "markdown",
      "source": [
        "#Interaction, input function"
      ],
      "metadata": {
        "id": "kVI8hTm5b-Z3"
      }
    },
    {
      "cell_type": "markdown",
      "source": [
        ""
      ],
      "metadata": {
        "id": "UF7aHNaSctO1"
      }
    },
    {
      "cell_type": "code",
      "source": [
        "greetin ='Hello'\n",
        "name = input(\"What is your name\")\n",
        "print(greetin +' '+ name)"
      ],
      "metadata": {
        "colab": {
          "base_uri": "https://localhost:8080/"
        },
        "id": "fJpmTu6Mb-Xg",
        "outputId": "a9e3907b-faee-4327-989e-d42c193da94b"
      },
      "execution_count": 37,
      "outputs": [
        {
          "output_type": "stream",
          "name": "stdout",
          "text": [
            "What is your nameankit Kafle\n",
            "Hello ankit Kafle\n"
          ]
        }
      ]
    },
    {
      "cell_type": "code",
      "source": [
        "name = input('enter your name: ')\n",
        "age = input('enter your age ')\n",
        "city = input('enter your city ')\n",
        "print (\"hello \"+ name+\"(\"+age+\")\"+ \" from \"+city)"
      ],
      "metadata": {
        "colab": {
          "base_uri": "https://localhost:8080/"
        },
        "id": "OAFe_eiib-VC",
        "outputId": "53ca8fa2-f41b-4044-b403-40083fbe5eb2"
      },
      "execution_count": 39,
      "outputs": [
        {
          "output_type": "stream",
          "name": "stdout",
          "text": [
            "enter your name: ankit\n",
            "enter your age 22\n",
            "enter your city ridgewood\n",
            "hello ankit(22) from ridgewood\n"
          ]
        }
      ]
    },
    {
      "cell_type": "code",
      "source": [
        "print('The name, age and city are {0}, {1} and {2}'.format(name, age, city))"
      ],
      "metadata": {
        "colab": {
          "base_uri": "https://localhost:8080/"
        },
        "id": "mLGa7p_Ab-Si",
        "outputId": "7554d27d-31ed-40ac-ba65-3b99714eac52"
      },
      "execution_count": 41,
      "outputs": [
        {
          "output_type": "stream",
          "name": "stdout",
          "text": [
            "The name, age and city are ankit, 22 and ridgewood\n"
          ]
        }
      ]
    },
    {
      "cell_type": "code",
      "source": [
        "print(f'The name, age and city are {name}, {age}, and {city}')"
      ],
      "metadata": {
        "colab": {
          "base_uri": "https://localhost:8080/"
        },
        "id": "CkDpwqSSb-P-",
        "outputId": "64df030c-01f1-41bd-bdbd-b54ef42a8939"
      },
      "execution_count": 43,
      "outputs": [
        {
          "output_type": "stream",
          "name": "stdout",
          "text": [
            "The name, age and city are ankit, 22, and ridgewood\n"
          ]
        }
      ]
    },
    {
      "cell_type": "markdown",
      "source": [
        "##Number"
      ],
      "metadata": {
        "id": "ng-WcaO2jJNI"
      }
    },
    {
      "cell_type": "code",
      "source": [
        "a= 14\n",
        "print(a)"
      ],
      "metadata": {
        "colab": {
          "base_uri": "https://localhost:8080/"
        },
        "id": "jMfKLYC3jJRE",
        "outputId": "f23236e8-ed4b-45d7-a8ca-74eb434aa35a"
      },
      "execution_count": 44,
      "outputs": [
        {
          "output_type": "stream",
          "name": "stdout",
          "text": [
            "14\n"
          ]
        }
      ]
    },
    {
      "cell_type": "code",
      "source": [
        "b = 4\n",
        "print(a+b)"
      ],
      "metadata": {
        "colab": {
          "base_uri": "https://localhost:8080/"
        },
        "id": "bgL9CWlWjJUn",
        "outputId": "5c9ed129-a84c-49f2-a806-634729e41637"
      },
      "execution_count": 45,
      "outputs": [
        {
          "output_type": "stream",
          "name": "stdout",
          "text": [
            "18\n"
          ]
        }
      ]
    },
    {
      "cell_type": "code",
      "source": [
        "if(0):\n",
        "  print(\"Ankit\")\n",
        "else:\n",
        "  print(\"Kafle\")"
      ],
      "metadata": {
        "colab": {
          "base_uri": "https://localhost:8080/"
        },
        "id": "DOHRQ45UjJXh",
        "outputId": "bba3776c-e188-409e-b9d7-cdaa8672ec9a"
      },
      "execution_count": 53,
      "outputs": [
        {
          "output_type": "stream",
          "name": "stdout",
          "text": [
            "Kafle\n"
          ]
        }
      ]
    },
    {
      "cell_type": "code",
      "source": [
        ""
      ],
      "metadata": {
        "id": "ImgG3yWujJa2"
      },
      "execution_count": null,
      "outputs": []
    },
    {
      "cell_type": "code",
      "source": [
        ""
      ],
      "metadata": {
        "id": "yoQmOSwfjJd1"
      },
      "execution_count": null,
      "outputs": []
    }
  ]
}
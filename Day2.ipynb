{
  "nbformat": 4,
  "nbformat_minor": 0,
  "metadata": {
    "colab": {
      "name": "Day2.ipynb",
      "provenance": [],
      "authorship_tag": "ABX9TyNqRo88ff+RvWv2t3QLLV7l",
      "include_colab_link": true
    },
    "kernelspec": {
      "name": "python3",
      "display_name": "Python 3"
    },
    "language_info": {
      "name": "python"
    }
  },
  "cells": [
    {
      "cell_type": "markdown",
      "metadata": {
        "id": "view-in-github",
        "colab_type": "text"
      },
      "source": [
        "<a href=\"https://colab.research.google.com/github/ankitkafle1/jjttp2022_KafleAnkit/blob/main/Day2.ipynb\" target=\"_parent\"><img src=\"https://colab.research.google.com/assets/colab-badge.svg\" alt=\"Open In Colab\"/></a>"
      ]
    },
    {
      "cell_type": "markdown",
      "source": [
        "# Using the slicer Syntax"
      ],
      "metadata": {
        "id": "LaG1rW8MgiWI"
      }
    },
    {
      "cell_type": "code",
      "source": [
        "#Select a set of characters from “Hello World” to print\n",
        "a = 'Hello World'\n",
        "for char in a:\n",
        "  print (char)"
      ],
      "metadata": {
        "colab": {
          "base_uri": "https://localhost:8080/"
        },
        "id": "aI0QDkbEg5rO",
        "outputId": "6ac72e98-0297-4415-f0b5-3937acda2c1c"
      },
      "execution_count": 3,
      "outputs": [
        {
          "output_type": "stream",
          "name": "stdout",
          "text": [
            "H\n",
            "e\n",
            "l\n",
            "l\n",
            "o\n",
            " \n",
            "W\n",
            "o\n",
            "r\n",
            "l\n",
            "d\n"
          ]
        }
      ]
    },
    {
      "cell_type": "code",
      "source": [
        "b = a[::-1]\n",
        "print(b)"
      ],
      "metadata": {
        "colab": {
          "base_uri": "https://localhost:8080/"
        },
        "id": "al4MVdBThPmr",
        "outputId": "2b5ee95f-76ce-4962-e375-4ef7735e998f"
      },
      "execution_count": 7,
      "outputs": [
        {
          "output_type": "stream",
          "name": "stdout",
          "text": [
            "dlroW olleH\n"
          ]
        }
      ]
    },
    {
      "cell_type": "markdown",
      "source": [
        "# Using the input() function"
      ],
      "metadata": {
        "id": "OoUHF_3rhsYY"
      }
    },
    {
      "cell_type": "code",
      "source": [
        "#print the user input in reverse\n",
        "a = input(\" Please enter a word: \")\n",
        "print(a[::-1])"
      ],
      "metadata": {
        "colab": {
          "base_uri": "https://localhost:8080/"
        },
        "id": "9xmSUcQ6hsfb",
        "outputId": "5a58c836-7be5-454f-c656-da9e5da50be8"
      },
      "execution_count": 9,
      "outputs": [
        {
          "output_type": "stream",
          "name": "stdout",
          "text": [
            " Please enter a word: Ankit\n",
            "tiknA\n"
          ]
        }
      ]
    },
    {
      "cell_type": "code",
      "source": [
        "#Print user inpur in a sentence\n",
        "a = input(\" Please enter a word: \")\n",
        "print(f\"The user input is, {a}\")\n"
      ],
      "metadata": {
        "colab": {
          "base_uri": "https://localhost:8080/"
        },
        "id": "oylorVQ0hsh-",
        "outputId": "7dd4ade4-3701-4815-f5df-078bacaaffe8"
      },
      "execution_count": 11,
      "outputs": [
        {
          "output_type": "stream",
          "name": "stdout",
          "text": [
            " Please enter a word: ANkit kafef\n",
            "The user input is, ANkit kafef\n"
          ]
        }
      ]
    },
    {
      "cell_type": "code",
      "source": [
        "#find the type of three object\n",
        "a= True\n",
        "b = 1.5\n",
        "c = 'ankit'\n",
        "print(type(a))\n",
        "print(type(b))\n",
        "print(type(c))\n"
      ],
      "metadata": {
        "colab": {
          "base_uri": "https://localhost:8080/"
        },
        "id": "E-DryaJ_hskq",
        "outputId": "249a723b-3241-4c71-9afb-c46cd74dba40"
      },
      "execution_count": 18,
      "outputs": [
        {
          "output_type": "stream",
          "name": "stdout",
          "text": [
            "<class 'bool'>\n",
            "<class 'float'>\n",
            "<class 'str'>\n"
          ]
        }
      ]
    },
    {
      "cell_type": "markdown",
      "source": [
        "#Perform Algebraic operations"
      ],
      "metadata": {
        "id": "7zUZrKpuhsm8"
      }
    },
    {
      "cell_type": "code",
      "source": [
        "#add two number together\n",
        "print(5+5)"
      ],
      "metadata": {
        "colab": {
          "base_uri": "https://localhost:8080/"
        },
        "id": "AdumyVrmi4x2",
        "outputId": "66b57276-7e0d-4409-b2f5-27de72880e19"
      },
      "execution_count": 19,
      "outputs": [
        {
          "output_type": "stream",
          "name": "stdout",
          "text": [
            "10\n"
          ]
        }
      ]
    },
    {
      "cell_type": "code",
      "source": [
        "#find the suqaretoot of t numbers\n",
        "import math\n",
        "i = 0 \n",
        "while i <5:\n",
        "  print(math.sqrt(10 + i*10))\n",
        "  i= i +1\n"
      ],
      "metadata": {
        "colab": {
          "base_uri": "https://localhost:8080/"
        },
        "id": "XdgldC5ii409",
        "outputId": "0e8ab210-83c5-4164-bada-18b3541b8d09"
      },
      "execution_count": 29,
      "outputs": [
        {
          "output_type": "stream",
          "name": "stdout",
          "text": [
            "3.1622776601683795\n",
            "4.47213595499958\n",
            "5.477225575051661\n",
            "6.324555320336759\n",
            "7.0710678118654755\n"
          ]
        }
      ]
    },
    {
      "cell_type": "code",
      "source": [
        "#Find the whole number of 5 division problems\n",
        "print(79//5)"
      ],
      "metadata": {
        "colab": {
          "base_uri": "https://localhost:8080/"
        },
        "id": "1Ag6924RkIUu",
        "outputId": "2ecb1eca-2ec1-4e30-ae0c-26eb126b74f4"
      },
      "execution_count": 31,
      "outputs": [
        {
          "output_type": "stream",
          "name": "stdout",
          "text": [
            "15\n"
          ]
        }
      ]
    },
    {
      "cell_type": "markdown",
      "source": [
        "#List and array"
      ],
      "metadata": {
        "id": "e9ib-Q53i431"
      }
    },
    {
      "cell_type": "code",
      "source": [
        "#Create tow list and combine them\n",
        "a = [1,2,3,4,5]\n",
        "b = [6,7,8,9,10]\n",
        "a.extend(b)\n",
        "print(a)"
      ],
      "metadata": {
        "colab": {
          "base_uri": "https://localhost:8080/"
        },
        "id": "c_msLeQMi46W",
        "outputId": "5c4c86a6-9cec-44f2-eb3f-7e605b128554"
      },
      "execution_count": 34,
      "outputs": [
        {
          "output_type": "stream",
          "name": "stdout",
          "text": [
            "[1, 2, 3, 4, 5, 6, 7, 8, 9, 10]\n"
          ]
        }
      ]
    },
    {
      "cell_type": "code",
      "source": [
        ""
      ],
      "metadata": {
        "id": "WZRrlx0tpG-g"
      },
      "execution_count": 61,
      "outputs": []
    },
    {
      "cell_type": "markdown",
      "source": [
        "#Converting Objects"
      ],
      "metadata": {
        "id": "7f3LO2o2i483"
      }
    },
    {
      "cell_type": "code",
      "source": [
        "#COnvert 5 bojects form one type to antoher\n",
        "a= int(4.5)\n",
        "print(a)\n",
        "b = float(5)\n",
        "print(b)\n",
        "a = True\n",
        "k = int(a)\n",
        "print(k)\n",
        "a = '45'\n",
        "r = int(a)\n",
        "print(r +5)\n"
      ],
      "metadata": {
        "colab": {
          "base_uri": "https://localhost:8080/"
        },
        "id": "SapaNSw6i4_Y",
        "outputId": "75d48a58-8670-4846-bc8b-765975f11dde"
      },
      "execution_count": 40,
      "outputs": [
        {
          "output_type": "stream",
          "name": "stdout",
          "text": [
            "4\n",
            "5.0\n",
            "1\n",
            "50\n"
          ]
        }
      ]
    },
    {
      "cell_type": "code",
      "source": [
        "#Convert a lowercase string to an UPPERCASE STRING\n",
        "\n",
        "a = 'ankit'\n",
        "b= a.upper()\n",
        "print(b)"
      ],
      "metadata": {
        "colab": {
          "base_uri": "https://localhost:8080/"
        },
        "id": "fxgrZHmylABA",
        "outputId": "6c12ce27-ab96-474c-ce9d-7f1647c74017"
      },
      "execution_count": 42,
      "outputs": [
        {
          "output_type": "stream",
          "name": "stdout",
          "text": [
            "ANKIT\n"
          ]
        }
      ]
    },
    {
      "cell_type": "markdown",
      "source": [
        "#Challenge Section\n"
      ],
      "metadata": {
        "id": "Qe_vVIbOlAD5"
      }
    },
    {
      "cell_type": "code",
      "source": [
        "#Print out the word “Python”, one letter at a time\n",
        "for char in \"Python\":\n",
        "  print(char)"
      ],
      "metadata": {
        "colab": {
          "base_uri": "https://localhost:8080/"
        },
        "id": "Ex03wl1jlAGY",
        "outputId": "c6296967-5cf2-4922-953b-e858e4da557c"
      },
      "execution_count": 43,
      "outputs": [
        {
          "output_type": "stream",
          "name": "stdout",
          "text": [
            "P\n",
            "y\n",
            "t\n",
            "h\n",
            "o\n",
            "n\n"
          ]
        }
      ]
    },
    {
      "cell_type": "code",
      "source": [
        "a= [3,4,5,2,4,5,3,2,4,5,6]\n",
        "print(a[3])"
      ],
      "metadata": {
        "colab": {
          "base_uri": "https://localhost:8080/"
        },
        "id": "5O-97sZblAI5",
        "outputId": "bae7f52e-93a2-4ce9-9013-36c8b128ab0e"
      },
      "execution_count": 44,
      "outputs": [
        {
          "output_type": "stream",
          "name": "stdout",
          "text": [
            "2\n"
          ]
        }
      ]
    },
    {
      "cell_type": "code",
      "source": [
        "print(this)"
      ],
      "metadata": {
        "colab": {
          "base_uri": "https://localhost:8080/"
        },
        "id": "F_uHx493lALN",
        "outputId": "b5680a14-deef-46fd-d2a9-509531f853a9"
      },
      "execution_count": 49,
      "outputs": [
        {
          "output_type": "stream",
          "name": "stdout",
          "text": [
            "<module 'this' from '/usr/lib/python3.7/this.py'>\n"
          ]
        }
      ]
    },
    {
      "cell_type": "code",
      "source": [
        ""
      ],
      "metadata": {
        "id": "Tiax37GPlANd"
      },
      "execution_count": null,
      "outputs": []
    },
    {
      "cell_type": "code",
      "source": [
        ""
      ],
      "metadata": {
        "id": "R7n-z_vOlAQM"
      },
      "execution_count": null,
      "outputs": []
    }
  ]
}